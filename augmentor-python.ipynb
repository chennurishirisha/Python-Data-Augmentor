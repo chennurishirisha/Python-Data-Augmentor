{
 "cells": [
  {
   "cell_type": "code",
   "execution_count": 1,
   "id": "15f75d1e",
   "metadata": {},
   "outputs": [
    {
     "name": "stdout",
     "output_type": "stream",
     "text": [
      "Note: you may need to restart the kernel to use updated packages.Collecting Augmentor\n",
      "  Downloading Augmentor-0.2.12-py2.py3-none-any.whl (38 kB)\n",
      "Requirement already satisfied: Pillow>=5.2.0 in c:\\python\\lib\\site-packages (from Augmentor) (9.3.0)\n",
      "Requirement already satisfied: tqdm>=4.9.0 in c:\\python\\lib\\site-packages (from Augmentor) (4.64.1)\n",
      "Requirement already satisfied: numpy>=1.11.0 in c:\\python\\lib\\site-packages (from Augmentor) (1.23.5)\n",
      "Requirement already satisfied: colorama in c:\\python\\lib\\site-packages (from tqdm>=4.9.0->Augmentor) (0.4.6)\n",
      "Installing collected packages: Augmentor\n",
      "Successfully installed Augmentor-0.2.12\n",
      "\n"
     ]
    },
    {
     "name": "stderr",
     "output_type": "stream",
     "text": [
      "\n",
      "[notice] A new release of pip is available: 23.0 -> 23.0.1\n",
      "[notice] To update, run: python.exe -m pip install --upgrade pip\n"
     ]
    }
   ],
   "source": [
    "pip install Augmentor"
   ]
  },
  {
   "cell_type": "code",
   "execution_count": 1,
   "id": "a219609f",
   "metadata": {},
   "outputs": [
    {
     "name": "stdout",
     "output_type": "stream",
     "text": [
      "Initialised with 32 image(s) found.\n",
      "Output directory set to C://Users/shiri/OneDrive/Desktop\\output."
     ]
    }
   ],
   "source": [
    "import Augmentor\n",
    "path_to_data = \"C://Users/shiri/OneDrive/Desktop\"\n",
    "# create pipe line\n",
    "p = Augmentor.Pipeline(path_to_data)"
   ]
  },
  {
   "cell_type": "code",
   "execution_count": 3,
   "id": "ac9118be",
   "metadata": {},
   "outputs": [],
   "source": [
    "#Adding operations to a pipeline:\n",
    "# First, we add a horizontal flip operation to the pipeline:\n",
    "p.flip_left_right(probability = 0.4)\n",
    "# Now we add a vertical flip operation to the pipeline: operation\n",
    "p.flip_top_bottom(probability = 0.6)\n",
    "\n",
    "#Add a rotate90 operation to the pipeline:\n",
    "\n",
    "p.rotate90(probability = 0.1)"
   ]
  },
  {
   "cell_type": "markdown",
   "id": "eab67d2b",
   "metadata": {},
   "source": [
    "Executing a pipeline"
   ]
  },
  {
   "cell_type": "code",
   "execution_count": 4,
   "id": "3c18e5c1",
   "metadata": {},
   "outputs": [
    {
     "name": "stderr",
     "output_type": "stream",
     "text": [
      "Processing <PIL.Image.Image image mode=RGB size=68x68 at 0x1F5588F9010>: 10\n"
     ]
    }
   ],
   "source": [
    "# Here we sample 100,000 images from the pipeline.\n",
    "\n",
    "# It is often useful to use scientific notation for specify\n",
    "num_of_samples = int(1e4)\n",
    "\n",
    "# now we can sample  from the pipeline:\n",
    "p.sample(num_of_samples)"
   ]
  },
  {
   "cell_type": "markdown",
   "id": "1619b85d",
   "metadata": {},
   "source": [
    "Step 2: Add Operations to the Pipeline:"
   ]
  },
  {
   "cell_type": "code",
   "execution_count": 6,
   "id": "48c2396b",
   "metadata": {},
   "outputs": [
    {
     "name": "stderr",
     "output_type": "stream",
     "text": [
      "Processing <PIL.Image.Image image mode=RGB size=1152x603 at 0x1F55A1E5390>:\n"
     ]
    }
   ],
   "source": [
    "p.rotate(probability = 0.7, max_left_rotation = 10, max_right_rotation = 10)   # 70%of probability\n",
    "p.zoom(probability = 0.3, min_factor = 1.1,max_factor = 1.7)                  # 30%of probability\n",
    "p.sample(num_of_samples)"
   ]
  },
  {
   "cell_type": "code",
   "execution_count": 7,
   "id": "f1f23c2a",
   "metadata": {},
   "outputs": [
    {
     "name": "stdout",
     "output_type": "stream",
     "text": [
      "Initialised with 5 image(s) found.\n",
      "Output directory set to C:/Users/shiri/data augmentor/images\\output."
     ]
    },
    {
     "name": "stderr",
     "output_type": "stream",
     "text": [
      "Processing <PIL.Image.Image image mode=RGB size=284x177 at 0x1F55A24D190>: \n",
      "Processing <PIL.Image.Image image mode=RGB size=1000x560 at 0x1F55A19D6D0>:\n"
     ]
    }
   ],
   "source": [
    "import Augmentor\n",
    "dir_path = \"C:/Users/shiri/data augmentor/images\"\n",
    "num_of_samples = int(1e2)\n",
    "p = Augmentor.Pipeline(dir_path)\n",
    "p.rotate(probability = 0.5,max_left_rotation = 10, max_right_rotation = 10)\n",
    "p.zoom(probability =0.5, min_factor = 1.1, max_factor = 1.5)\n",
    "p.flip_left_right(probability = 0.5)\n",
    "p.zoom_random (probability = 0.5, percentage_area = 0.8)\n",
    "p.flip_top_bottom(probability = 0.5)\n",
    "p.skew_tilt(probability = 0.5)\n",
    "p.gaussian_distortion(probability = 0.5, magnitude = 1, grid_width = 2, grid_height = 2, corner = 'bell', method = 'in')\n",
    "p.random_brightness(probability = 0.5, min_factor = 0.1, max_factor = 0.7)\n",
    "p.random_distortion(probability = 0.5, grid_width = 2,grid_height = 2, magnitude = 1)\n",
    "p.sample(num_of_samples)\n",
    "p.process()"
   ]
  },
  {
   "cell_type": "code",
   "execution_count": null,
   "id": "d6b1e08d",
   "metadata": {},
   "outputs": [],
   "source": []
  }
 ],
 "metadata": {
  "kernelspec": {
   "display_name": "Python 3 (ipykernel)",
   "language": "python",
   "name": "python3"
  },
  "language_info": {
   "codemirror_mode": {
    "name": "ipython",
    "version": 3
   },
   "file_extension": ".py",
   "mimetype": "text/x-python",
   "name": "python",
   "nbconvert_exporter": "python",
   "pygments_lexer": "ipython3",
   "version": "3.11.0"
  }
 },
 "nbformat": 4,
 "nbformat_minor": 5
}
